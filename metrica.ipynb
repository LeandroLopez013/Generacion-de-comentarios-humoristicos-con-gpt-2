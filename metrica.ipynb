{
 "cells": [
  {
   "cell_type": "markdown",
   "metadata": {},
   "source": [
    "# Metricas de la base de datos"
   ]
  },
  {
   "cell_type": "markdown",
   "metadata": {},
   "source": [
    "## Importo paquetes"
   ]
  },
  {
   "cell_type": "code",
   "execution_count": 17,
   "metadata": {},
   "outputs": [],
   "source": [
    "import pandas as pd\n",
    "import sqlite3"
   ]
  },
  {
   "cell_type": "markdown",
   "metadata": {},
   "source": [
    "## Trabajo con la base de datos\n",
    "\n",
    "Conectarse a la base de datos"
   ]
  },
  {
   "cell_type": "code",
   "execution_count": 2,
   "metadata": {},
   "outputs": [],
   "source": [
    "conn = sqlite3.connect('bot/user_data.db')"
   ]
  },
  {
   "cell_type": "markdown",
   "metadata": {},
   "source": [
    "acceder a la columna reaction"
   ]
  },
  {
   "cell_type": "code",
   "execution_count": 3,
   "metadata": {},
   "outputs": [],
   "source": [
    "cursor = conn.cursor()\n",
    "cursor.execute('SELECT reaction FROM jokes')\n",
    "df = pd.DataFrame(cursor.fetchall(), columns=['reaction'])"
   ]
  },
  {
   "cell_type": "markdown",
   "metadata": {},
   "source": [
    "cerrar conexion"
   ]
  },
  {
   "cell_type": "code",
   "execution_count": 4,
   "metadata": {},
   "outputs": [],
   "source": [
    "conn.close()"
   ]
  },
  {
   "cell_type": "markdown",
   "metadata": {},
   "source": [
    "## Calculo de metricas"
   ]
  },
  {
   "cell_type": "code",
   "execution_count": 14,
   "metadata": {},
   "outputs": [],
   "source": [
    "def calcular_estadisticas_reacciones(df):\n",
    "    '''\n",
    "    Calcula el porcentaje de preguntas respondidas y \n",
    "    el porcentaje de 'likes' sobre las reacciones respondidas.\n",
    "\n",
    "    Args:\n",
    "        df (pd.DataFrame): DataFrame que contiene una columna 'reaction' con reacciones ('like', 'dislike', None).\n",
    "\n",
    "    Returns:\n",
    "        dict: Diccionario con los porcentajes calculados.\n",
    "    '''\n",
    "    total_respondidas = 0\n",
    "    no_respondidas = 0\n",
    "    likes = 0\n",
    "    dislikes = 0\n",
    "\n",
    "    # Iterar sobre las reacciones de una sola vez\n",
    "    for reaction in df['reaction']:\n",
    "        if reaction is None:\n",
    "            no_respondidas += 1\n",
    "        else:\n",
    "            total_respondidas += 1\n",
    "            if reaction == 'like':\n",
    "                likes += 1\n",
    "            elif reaction == 'dislike':\n",
    "                dislikes += 1\n",
    "\n",
    "    # Calculo de porcentajes\n",
    "    porcentaje_respondidas = (total_respondidas * 100) / (total_respondidas + no_respondidas)\n",
    "    porcentaje_likes = (likes * 100) / (likes + dislikes) if (likes + dislikes) > 0 else 0\n",
    "\n",
    "    return {\n",
    "        'porcentaje_respondidas': round(porcentaje_respondidas, 2),\n",
    "        'porcentaje_likes': round(porcentaje_likes, 2)\n",
    "    }"
   ]
  },
  {
   "cell_type": "code",
   "execution_count": 16,
   "metadata": {},
   "outputs": [
    {
     "name": "stdout",
     "output_type": "stream",
     "text": [
      "El número de preguntas respondidas fue del 88.14%\n",
      "De las preguntas respondidas, el porcentaje de likes es: 25.0%\n"
     ]
    }
   ],
   "source": [
    "# Ejemplo de uso\n",
    "resultados = calcular_estadisticas_reacciones(df)\n",
    "print(f\"El número de preguntas respondidas fue del { resultados['porcentaje_respondidas']}%\")\n",
    "print(f\"De las preguntas respondidas, el porcentaje de likes es: {resultados['porcentaje_likes']}%\")"
   ]
  }
 ],
 "metadata": {
  "kernelspec": {
   "display_name": "Python 3",
   "language": "python",
   "name": "python3"
  },
  "language_info": {
   "codemirror_mode": {
    "name": "ipython",
    "version": 3
   },
   "file_extension": ".py",
   "mimetype": "text/x-python",
   "name": "python",
   "nbconvert_exporter": "python",
   "pygments_lexer": "ipython3",
   "version": "3.9.15"
  }
 },
 "nbformat": 4,
 "nbformat_minor": 2
}
