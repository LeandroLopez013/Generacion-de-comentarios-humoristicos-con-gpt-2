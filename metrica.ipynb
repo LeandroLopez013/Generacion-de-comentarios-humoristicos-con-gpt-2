{
 "cells": [
  {
   "cell_type": "code",
   "execution_count": 2,
   "metadata": {},
   "outputs": [],
   "source": [
    "import pandas as pd\n",
    "import sqlite3"
   ]
  },
  {
   "cell_type": "markdown",
   "metadata": {},
   "source": [
    "Conectarse a la base de datos"
   ]
  },
  {
   "cell_type": "code",
   "execution_count": 7,
   "metadata": {},
   "outputs": [],
   "source": [
    "conn = sqlite3.connect('bot/user_data.db')"
   ]
  },
  {
   "cell_type": "markdown",
   "metadata": {},
   "source": [
    "acceder a la columna reaction"
   ]
  },
  {
   "cell_type": "code",
   "execution_count": 8,
   "metadata": {},
   "outputs": [],
   "source": [
    "cursor = conn.cursor()\n",
    "cursor.execute('SELECT reaction FROM jokes')\n",
    "df = pd.DataFrame(cursor.fetchall(), columns=['reaction'])"
   ]
  },
  {
   "cell_type": "markdown",
   "metadata": {},
   "source": [
    "cerrar conexion"
   ]
  },
  {
   "cell_type": "code",
   "execution_count": 9,
   "metadata": {},
   "outputs": [],
   "source": [
    "conn.close()\n"
   ]
  },
  {
   "cell_type": "code",
   "execution_count": 10,
   "metadata": {},
   "outputs": [
    {
     "name": "stdout",
     "output_type": "stream",
     "text": [
      "el numero de preguntas que si respondio fue del 86.53846153846153%\n"
     ]
    }
   ],
   "source": [
    "s = 0\n",
    "z = 0 \n",
    "for i in df['reaction']:\n",
    "    if i == None:\n",
    "        z += 1\n",
    "    else:\n",
    "        s += 1\n",
    "print(f'el numero de preguntas que si respondio fue del {(s*100)/(s+z)}%')"
   ]
  },
  {
   "cell_type": "code",
   "execution_count": 11,
   "metadata": {},
   "outputs": [
    {
     "name": "stdout",
     "output_type": "stream",
     "text": [
      "De las preguntas respondidas el numero de likes es de: 22.22222222222222%\n"
     ]
    }
   ],
   "source": [
    "s = 0\n",
    "z = 0 \n",
    "for i in df['reaction']:\n",
    "    if i == 'like':\n",
    "        z += 1\n",
    "    elif i == 'dislike':\n",
    "        s += 1\n",
    "\n",
    "print(f'De las preguntas respondidas el numero de likes es de: {(z*100)/(s+z)}%')"
   ]
  }
 ],
 "metadata": {
  "kernelspec": {
   "display_name": "env",
   "language": "python",
   "name": "python3"
  },
  "language_info": {
   "codemirror_mode": {
    "name": "ipython",
    "version": 3
   },
   "file_extension": ".py",
   "mimetype": "text/x-python",
   "name": "python",
   "nbconvert_exporter": "python",
   "pygments_lexer": "ipython3",
   "version": "3.12.3"
  }
 },
 "nbformat": 4,
 "nbformat_minor": 2
}
