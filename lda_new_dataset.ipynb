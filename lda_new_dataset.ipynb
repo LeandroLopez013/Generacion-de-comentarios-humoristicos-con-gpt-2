{
 "cells": [
  {
   "cell_type": "code",
   "execution_count": 11,
   "metadata": {},
   "outputs": [],
   "source": [
    "from datasets import load_dataset\n",
    "from sklearn.feature_extraction.text import TfidfVectorizer, CountVectorizer\n",
    "from sklearn.decomposition import NMF, LatentDirichletAllocation\n",
    "from sklearn.model_selection import train_test_split\n",
    "import numpy as np\n",
    "import pandas as pd\n",
    "from spacy.lang.es.stop_words import STOP_WORDS\n",
    "from wordcloud import WordCloud\n",
    "from sklearn.cluster import KMeans\n",
    "from sklearn.decomposition import PCA\n",
    "import matplotlib.pyplot as plt\n",
    "import pyLDAvis\n",
    "import pyLDAvis.lda_model\n",
    "import spacy\n",
    "\n",
    "# creo una lista con las stopwords en español\n",
    "spanish_stop_words = list(STOP_WORDS)"
   ]
  },
  {
   "cell_type": "code",
   "execution_count": 2,
   "metadata": {},
   "outputs": [
    {
     "data": {
      "application/vnd.jupyter.widget-view+json": {
       "model_id": "f698a1b709004adeac399a6729b32082",
       "version_major": 2,
       "version_minor": 0
      },
      "text/plain": [
       "README.md:   0%|          | 0.00/24.0 [00:00<?, ?B/s]"
      ]
     },
     "metadata": {},
     "output_type": "display_data"
    },
    {
     "data": {
      "application/vnd.jupyter.widget-view+json": {
       "model_id": "1820d286e0be426e80eede45d579ca57",
       "version_major": 2,
       "version_minor": 0
      },
      "text/plain": [
       "jokes_tm.csv:   0%|          | 0.00/223k [00:00<?, ?B/s]"
      ]
     },
     "metadata": {},
     "output_type": "display_data"
    },
    {
     "data": {
      "application/vnd.jupyter.widget-view+json": {
       "model_id": "3894f05fda0f445f9c04271b3d47c68a",
       "version_major": 2,
       "version_minor": 0
      },
      "text/plain": [
       "Generating train split:   0%|          | 0/1732 [00:00<?, ? examples/s]"
      ]
     },
     "metadata": {},
     "output_type": "display_data"
    },
    {
     "data": {
      "text/plain": [
       "Dataset({\n",
       "    features: ['joke'],\n",
       "    num_rows: 1732\n",
       "})"
      ]
     },
     "execution_count": 2,
     "metadata": {},
     "output_type": "execute_result"
    }
   ],
   "source": [
    "dataset = load_dataset('kevmansilla/jokes_spanish_tm', split='train')\n",
    "dataset"
   ]
  },
  {
   "cell_type": "code",
   "execution_count": 4,
   "metadata": {},
   "outputs": [
    {
     "data": {
      "application/vnd.jupyter.widget-view+json": {
       "model_id": "026fcb393aa04283897ec3cf04dae94b",
       "version_major": 2,
       "version_minor": 0
      },
      "text/plain": [
       "Map:   0%|          | 0/1732 [00:00<?, ? examples/s]"
      ]
     },
     "metadata": {},
     "output_type": "display_data"
    },
    {
     "name": "stdout",
     "output_type": "stream",
     "text": [
      "{'joke': ['¿Cuál es el beneficio de salir con una visca?\\n - Que mientras te chupa laicha, te cuida la moto. Jaja', '¿Cuál es la diferencia entre Jesucristo y un retrato de Jesucristo?\\n Pues el retrato necesita un clavo.', '¿Cuál es la diferencia entre una mujer y dos hombres sin brazos?\\n Que ninguno tiene derechos.', 'Hay un nazi que esta por ejecutar a un negro y un judío, ¿a quien mata primero y por que?\\n - Mata primero al judío, porque el trabajo es primero y la diversión después', 'Qué es lo más difícil de ocultar en una piscina de bebés muertos?\\n - La erección']}\n"
     ]
    }
   ],
   "source": [
    "def limpiar_etiquetas(ejemplo):\n",
    "    texto = ejemplo['joke']  # Asumiendo que la columna se llama 'text'\n",
    "    # Eliminar las etiquetas especificadas\n",
    "    texto_limpio = (\n",
    "        texto.replace(\"<START>\", \"\")\n",
    "             .replace(\"[QUESTION]\", \"\")\n",
    "             .replace(\"[ANSWER]\", \"\")\n",
    "             .replace(\"<END>\", \"\")\n",
    "             .strip()  # Eliminar espacios extra al inicio y final\n",
    "    )\n",
    "    return {'joke': texto_limpio}\n",
    "\n",
    "\n",
    "# Aplicar la limpieza al dataset\n",
    "dataset_limpio = dataset.map(limpiar_etiquetas)\n",
    "\n",
    "# Verificar los cambios\n",
    "print(dataset_limpio[:5])  # Mostrar las primeras 5 filas"
   ]
  },
  {
   "cell_type": "code",
   "execution_count": 6,
   "metadata": {},
   "outputs": [],
   "source": [
    "# Crear un DataFrame de pandas\n",
    "df = pd.DataFrame(dataset_limpio)"
   ]
  },
  {
   "cell_type": "code",
   "execution_count": 7,
   "metadata": {},
   "outputs": [
    {
     "data": {
      "text/html": [
       "<div>\n",
       "<style scoped>\n",
       "    .dataframe tbody tr th:only-of-type {\n",
       "        vertical-align: middle;\n",
       "    }\n",
       "\n",
       "    .dataframe tbody tr th {\n",
       "        vertical-align: top;\n",
       "    }\n",
       "\n",
       "    .dataframe thead th {\n",
       "        text-align: right;\n",
       "    }\n",
       "</style>\n",
       "<table border=\"1\" class=\"dataframe\">\n",
       "  <thead>\n",
       "    <tr style=\"text-align: right;\">\n",
       "      <th></th>\n",
       "      <th>joke</th>\n",
       "    </tr>\n",
       "  </thead>\n",
       "  <tbody>\n",
       "    <tr>\n",
       "      <th>0</th>\n",
       "      <td>¿Cuál es el beneficio de salir con una visca?\\...</td>\n",
       "    </tr>\n",
       "    <tr>\n",
       "      <th>1</th>\n",
       "      <td>¿Cuál es la diferencia entre Jesucristo y un r...</td>\n",
       "    </tr>\n",
       "    <tr>\n",
       "      <th>2</th>\n",
       "      <td>¿Cuál es la diferencia entre una mujer y dos h...</td>\n",
       "    </tr>\n",
       "    <tr>\n",
       "      <th>3</th>\n",
       "      <td>Hay un nazi que esta por ejecutar a un negro y...</td>\n",
       "    </tr>\n",
       "    <tr>\n",
       "      <th>4</th>\n",
       "      <td>Qué es lo más difícil de ocultar en una piscin...</td>\n",
       "    </tr>\n",
       "    <tr>\n",
       "      <th>...</th>\n",
       "      <td>...</td>\n",
       "    </tr>\n",
       "    <tr>\n",
       "      <th>1727</th>\n",
       "      <td>¿Sabes qué le dice una piedra a otra?\\n ¡La vi...</td>\n",
       "    </tr>\n",
       "    <tr>\n",
       "      <th>1728</th>\n",
       "      <td>¿Por qué está tan feliz siempre la escoba?\\n P...</td>\n",
       "    </tr>\n",
       "    <tr>\n",
       "      <th>1729</th>\n",
       "      <td>¿Qué le dice un gusano a otro?\\n Me voy a dar ...</td>\n",
       "    </tr>\n",
       "    <tr>\n",
       "      <th>1730</th>\n",
       "      <td>¿Cuál es el colmo de una cabra?\\n Que los hijo...</td>\n",
       "    </tr>\n",
       "    <tr>\n",
       "      <th>1731</th>\n",
       "      <td></td>\n",
       "    </tr>\n",
       "  </tbody>\n",
       "</table>\n",
       "<p>1732 rows × 1 columns</p>\n",
       "</div>"
      ],
      "text/plain": [
       "                                                   joke\n",
       "0     ¿Cuál es el beneficio de salir con una visca?\\...\n",
       "1     ¿Cuál es la diferencia entre Jesucristo y un r...\n",
       "2     ¿Cuál es la diferencia entre una mujer y dos h...\n",
       "3     Hay un nazi que esta por ejecutar a un negro y...\n",
       "4     Qué es lo más difícil de ocultar en una piscin...\n",
       "...                                                 ...\n",
       "1727  ¿Sabes qué le dice una piedra a otra?\\n ¡La vi...\n",
       "1728  ¿Por qué está tan feliz siempre la escoba?\\n P...\n",
       "1729  ¿Qué le dice un gusano a otro?\\n Me voy a dar ...\n",
       "1730  ¿Cuál es el colmo de una cabra?\\n Que los hijo...\n",
       "1731                                                   \n",
       "\n",
       "[1732 rows x 1 columns]"
      ]
     },
     "execution_count": 7,
     "metadata": {},
     "output_type": "execute_result"
    }
   ],
   "source": [
    "df"
   ]
  },
  {
   "cell_type": "markdown",
   "metadata": {},
   "source": [
    "## Modelo 1\n",
    "\n",
    "Un modelo de temas con NMF (Non-negative Matrix Factorization) es una técnica que se utiliza para encontrar temas ocultos en un conjunto de documentos.\n",
    "\n",
    "¿Cómo funciona en palabras simples?\n",
    "1. Descomposición de la matriz:\n",
    "    - Piensa que cada documento es como una bolsa de palabras. El modelo toma todos estos documentos y las palabras que contienen y crea una gran tabla (matriz) donde cada fila es un documento y cada columna es una palabra.\n",
    "    - Luego, el modelo NMF descompone esta tabla en dos partes más pequeñas:\n",
    "        - Una parte que nos dice qué palabras están relacionadas con cada tema.\n",
    "        - Otra parte que nos dice qué temas están presentes en cada documento.\n",
    "2. Temas ocultos:\n",
    "    - El modelo NMF encuentra grupos de palabras que tienden a aparecer juntas en los documentos. Cada grupo de palabras representa un tema.\n",
    "    - Por ejemplo, en un conjunto de noticias, el modelo podría identificar temas como \"deportes\" con palabras como \"equipo\", \"partido\", \"jugador\", y otro tema sobre \"economía\" con palabras como \"mercado\", \"dinero\", \"finanzas\".\n",
    "3. Asignación de temas:\n",
    "    - Una vez que el modelo ha encontrado los temas, puede decirte qué temas son los más importantes en cada documento. Por ejemplo, puede indicar que un documento trata en un 70% de \"deportes\" y en un 30% de \"economía\".\n"
   ]
  },
  {
   "cell_type": "code",
   "execution_count": 17,
   "metadata": {},
   "outputs": [],
   "source": [
    "def display_topics(H, feature_names, no_top_words):\n",
    "    '''\n",
    "    Display the topics generated by the NMF model (without documents)\n",
    "    '''\n",
    "    for topic_idx, topic in enumerate(H):\n",
    "        print(' ')\n",
    "        print('Topic %d:' % (topic_idx))\n",
    "        print(' '.join([(feature_names[i] + ' (' + str(topic[i].round(2)) + ')')\n",
    "                        for i in topic.argsort()[:-no_top_words - 1:-1]]))"
   ]
  },
  {
   "cell_type": "code",
   "execution_count": 22,
   "metadata": {},
   "outputs": [
    {
     "name": "stdout",
     "output_type": "stream",
     "text": [
      "NMF Topics\n",
      " \n",
      "Topic 0:\n",
      "colmo (1.91) perder (0.24) ciego (0.22) enamorarse (0.18) policía (0.18) colmillo (0.17)\n",
      " \n",
      "Topic 1:\n",
      "llama (2.25) judío (0.54) lee (0.48) bruce (0.3) broco (0.24) primo (0.21)\n",
      " \n",
      "Topic 2:\n",
      "diferencia (1.41) bebé (0.89) bolsa (0.27) común (0.24) perro (0.24) semáforo (0.21)\n",
      " \n",
      "Topic 3:\n",
      "pez (1.85) agua (0.21) espacio (0.11) huele (0.1) mero (0.09) espectador (0.09)\n",
      " \n",
      "Topic 4:\n",
      "cáncer (1.32) niño (1.01) niños (0.34) común (0.29) jugar (0.2) regalo (0.16)\n",
      " \n",
      "Topic 5:\n",
      "gimnasio (1.46) asistente (0.54) trajo (0.28) gusta (0.25) favorito (0.25) rata (0.24)\n",
      " \n",
      "Topic 6:\n",
      "mujer (1.36) hombre (0.55) sexo (0.29) embarazada (0.23) tienes (0.22) oye (0.18)\n",
      " \n",
      "Topic 7:\n",
      "hijo (1.16) mamá (0.87) hija (0.23) doctor (0.23) papá (0.22) papa (0.17)\n",
      "--------------\n"
     ]
    }
   ],
   "source": [
    "# Defino argumentos\n",
    "no_topics = 8\n",
    "no_top_words = 6\n",
    "\n",
    "# Inicializacion del vectorizador TF-IDF\n",
    "tfidf_vectorizer = TfidfVectorizer(\n",
    "    max_df=0.95, min_df=2, stop_words=spanish_stop_words)\n",
    "\n",
    "# Ajuste y transformación del vectorizador TF-IDF\n",
    "tfidf = tfidf_vectorizer.fit_transform(df['joke'])\n",
    "\n",
    "# Obtención de los nombres de las características (palabras):\n",
    "tfidf_feature_names = tfidf_vectorizer.get_feature_names_out()\n",
    "\n",
    "# Ejecución del modelo NMF:\n",
    "nmf_model = NMF(n_components=no_topics, random_state=1,\n",
    "                l1_ratio=.5, init='nndsvd').fit(tfidf)\n",
    "\n",
    "# Obtención de las matrices de temas y documentos\n",
    "nmf_W = nmf_model.transform(tfidf)\n",
    "nmf_H = nmf_model.components_\n",
    "\n",
    "print('NMF Topics')\n",
    "display_topics(nmf_H, tfidf_feature_names, no_top_words)\n",
    "print('--------------')"
   ]
  },
  {
   "cell_type": "markdown",
   "metadata": {},
   "source": [
    "## LDA"
   ]
  },
  {
   "cell_type": "code",
   "execution_count": 24,
   "metadata": {},
   "outputs": [
    {
     "data": {
      "text/html": [
       "\n",
       "<link rel=\"stylesheet\" type=\"text/css\" href=\"https://cdn.jsdelivr.net/gh/bmabey/pyLDAvis@3.4.0/pyLDAvis/js/ldavis.v1.0.0.css\">\n",
       "\n",
       "\n",
       "<div id=\"ldavis_el17319951270350703760807284211637\" style=\"background-color:white;\"></div>\n",
       "<script type=\"text/javascript\">\n",
       "\n",
       "var ldavis_el17319951270350703760807284211637_data = {\"mdsDat\": {\"x\": [-40.52323532104492, 29.246627807617188, -48.179176330566406, 0.2629169523715973, 56.369239807128906, 43.309051513671875, -17.230314254760742, 3.308519124984741], \"y\": [-20.140748977661133, 57.74612808227539, 25.80936622619629, -42.774112701416016, 19.915550231933594, -24.858139038085938, 60.59397506713867, 10.850616455078125], \"topics\": [1, 2, 3, 4, 5, 6, 7, 8], \"cluster\": [1, 1, 1, 1, 1, 1, 1, 1], \"Freq\": [14.494569598383034, 13.939907194093154, 13.839784163308371, 12.572131304435338, 12.324266583137021, 11.927859366316508, 10.955092039856716, 9.946389750469862]}, \"tinfo\": {\"Term\": [\"perro\", \"colmo\", \"pez\", \"ni\\u00f1o\", \"beb\\u00e9\", \"jud\\u00edo\", \"gusano\", \"manzana\", \"cuerpo\", \"suicid\\u00f3\", \"n\\u00famero\", \"sincero\", \"pide\", \"mujer\", \"diferencia\", \"10\", \"hijo\", \"tienes\", \"sem\\u00e1foro\", \"silla\", \"mires\", \"genio\", \"sigan\", \"noel\", \"bolsa\", \"coca\\u00edna\", \"beb\\u00e9\", \"hija\", \"colmo\", \"diferencia\", \"pez\", \"ja\", \"pato\", \"dormido\", \"ovejas\", \"quedarse\", \"colmo\", \"sexo\", \"ni\\u00f1os\", \"hombre\", \"mam\\u00e1\", \"perro\", \"jaguar\", \"colmos\", \"diga\", \"mudo\", \"mirando\", \"cambiar\", \"pan\", \"bombilla\", \"colmo\", \"pregunta\", \"lee\", \"japon\\u00e9s\", \"bruce\", \"super\", \"broco\", \"tumor\", \"llama\", \"gimnasio\", \"hombre\", \"mujer\", \"pregunta\", \"colmo\", \"funeral\", \"luna\", \"respira\", \"uva\", \"jud\\u00edo\", \"concentraci\\u00f3n\", \"horno\", \"campo\", \"negro\", \"ni\\u00f1o\", \"c\\u00e1ncer\", \"diferencia\", \"tel\\u00f3n\", \"pija\", \"t\\u00edtulo\", \"piedra\", \"muri\\u00f3\", \"regalado\", \"techo\", \"gitana\", \"calvo\", \"ve\", \"doctor\", \"pel\\u00edcula\", \"abre\", \"colmo\", \"llama\", \"peluquero\", \"do\", \"toro\", \"conocimiento\", \"arca\", \"no\\u00e9\", \"iguana\", \"volver\", \"perder\", \"m\\u00fasico\", \"impresora\", \"pap\\u00e1\", \"colmo\", \"diferencia\", \"ni\\u00f1o\", \"com\\u00fan\"], \"Freq\": [22.0, 140.0, 19.0, 39.0, 28.0, 21.0, 9.722810076455799, 6.759664835698751, 6.018724714435171, 4.537023532181313, 8.241466545544126, 3.796529650506888, 6.0189476456534425, 30.456710074424258, 24.391220941828873, 7.500360802975401, 12.214884303596435, 8.14310431305953, 11.786101535920668, 11.7860619607478, 4.4768934615323355, 3.745979076145438, 3.015033984177646, 3.014938953219511, 8.862894615572522, 5.938877907897885, 21.140607407871858, 14.71007391556142, 33.43565546829213, 11.514023244606346, 18.945510163591386, 5.89220644774175, 5.892206410478487, 4.4418171476567645, 4.4418171476567645, 4.4418171476567645, 35.477111032862354, 9.39516762592492, 8.697409844050277, 9.71313179674211, 8.793678925492815, 22.15828023267988, 6.520390888804891, 5.805827512837889, 5.8058184456427195, 4.3767007312748065, 3.6621373480236956, 12.166553939236525, 8.6650094952118, 9.73427301865704, 34.986718548507596, 6.6313434434667755, 11.565870435948517, 6.544984477830427, 5.827774361357121, 5.8277108448811274, 5.1105098190247915, 5.110509782001049, 18.80683089736673, 9.373870856645942, 8.246068414842675, 8.01914021003061, 7.262782859734474, 7.590569174031979, 8.565684187196297, 7.154844337536412, 5.741595550268687, 5.034937629395172, 17.755280835051142, 6.448571015359282, 7.862228811826935, 9.095891690852286, 12.682302471595879, 22.569935093072832, 17.79952580969027, 15.71894718510971, 11.998479501467312, 5.692744399108986, 4.991951910274447, 4.291453406477649, 4.291368451673333, 3.5908080037920134, 9.896713994325912, 6.393680000265899, 5.692946167274124, 8.342000402409194, 9.752684557162798, 6.849321020874799, 6.749580203821154, 7.995035884512338, 7.411903058034998, 3.4983699604207237, 3.4983545406913423, 2.8157612025443086, 2.1331524118292724, 2.1331523785810966, 2.1331523785810966, 5.5466338611174235, 4.863816135600606, 6.9117376934024595, 3.8696056098503098, 4.181201386573262, 6.128156513673456, 15.887737538666821, 9.665536234154981, 6.4256885131893435, 5.898246927725333], \"Total\": [22.0, 140.0, 19.0, 39.0, 28.0, 21.0, 10.345051868994192, 7.381906749881466, 6.641114545544925, 5.159535016999717, 9.564140511883473, 4.4187619377155185, 7.372043731961998, 64.90214571842179, 74.12552633542315, 10.92527161741957, 43.97880831613702, 28.139078407995676, 12.40959385653619, 12.40959339922899, 5.1003669227318955, 4.369444311623317, 3.6385211273226603, 3.638513786549192, 10.943955857727651, 7.302995769383118, 28.219767696144793, 21.134843693896066, 140.5330342203527, 74.12552633542315, 19.569888683441533, 6.516387638982836, 6.516387638288787, 5.06599834787509, 5.06599834787509, 5.06599834787509, 140.5330342203527, 23.313191023803544, 20.24981381324912, 32.47932330219574, 23.907465137820704, 22.86752252700027, 7.145901016268396, 6.431337622936934, 6.431337757994594, 5.002210836207967, 4.287647442860136, 14.325861141261866, 10.72143984848472, 15.12266617452294, 140.5330342203527, 35.23271357000872, 12.191063810721818, 7.170212081954848, 6.452946811182387, 6.452946307068009, 5.735682269260862, 5.735682269020673, 46.44868001534864, 35.707045220485796, 32.47932330219574, 64.90214571842179, 35.23271357000872, 140.5330342203527, 9.194764177080783, 7.78141086576762, 6.368093841964187, 5.66143592130678, 21.111742563374644, 7.79993689271625, 9.949889548888743, 12.00966825059656, 18.45890282431971, 39.60726836222799, 32.5994978331305, 74.12552633542315, 12.625804786818646, 6.319994196691315, 5.619350613462262, 4.918703267866259, 4.918705498425684, 4.218057801508768, 12.005431560878273, 7.703255914383329, 7.045181672419411, 13.428174435784536, 23.391147577424263, 10.660030938329056, 10.470046378704097, 140.5330342203527, 46.44868001534864, 4.127874385832331, 4.127874929063512, 3.4452656031148385, 2.7626568221248946, 2.7626568238711373, 2.7626568238711373, 7.62606250641232, 6.943467343471073, 10.40995997490653, 5.546641272954626, 6.2396001809955415, 13.397228224160237, 140.5330342203527, 74.12552633542315, 39.60726836222799, 32.844230713772234], \"Category\": [\"Default\", \"Default\", \"Default\", \"Default\", \"Default\", \"Default\", \"Topic1\", \"Topic1\", \"Topic1\", \"Topic1\", \"Topic1\", \"Topic1\", \"Topic1\", \"Topic1\", \"Topic1\", \"Topic1\", \"Topic1\", \"Topic1\", \"Topic2\", \"Topic2\", \"Topic2\", \"Topic2\", \"Topic2\", \"Topic2\", \"Topic2\", \"Topic2\", \"Topic2\", \"Topic2\", \"Topic2\", \"Topic2\", \"Topic3\", \"Topic3\", \"Topic3\", \"Topic3\", \"Topic3\", \"Topic3\", \"Topic3\", \"Topic3\", \"Topic3\", \"Topic3\", \"Topic3\", \"Topic4\", \"Topic4\", \"Topic4\", \"Topic4\", \"Topic4\", \"Topic4\", \"Topic4\", \"Topic4\", \"Topic4\", \"Topic4\", \"Topic4\", \"Topic5\", \"Topic5\", \"Topic5\", \"Topic5\", \"Topic5\", \"Topic5\", \"Topic5\", \"Topic5\", \"Topic5\", \"Topic5\", \"Topic5\", \"Topic5\", \"Topic6\", \"Topic6\", \"Topic6\", \"Topic6\", \"Topic6\", \"Topic6\", \"Topic6\", \"Topic6\", \"Topic6\", \"Topic6\", \"Topic6\", \"Topic6\", \"Topic7\", \"Topic7\", \"Topic7\", \"Topic7\", \"Topic7\", \"Topic7\", \"Topic7\", \"Topic7\", \"Topic7\", \"Topic7\", \"Topic7\", \"Topic7\", \"Topic7\", \"Topic7\", \"Topic7\", \"Topic8\", \"Topic8\", \"Topic8\", \"Topic8\", \"Topic8\", \"Topic8\", \"Topic8\", \"Topic8\", \"Topic8\", \"Topic8\", \"Topic8\", \"Topic8\", \"Topic8\", \"Topic8\", \"Topic8\", \"Topic8\"], \"logprob\": [6.0, 5.0, 4.0, 3.0, 2.0, 1.0, -5.0491, -5.4126, -5.5287, -5.8113, -5.2144, -5.9894, -5.5286, -3.9072, -4.1293, -5.3086, -4.8209, -5.2264, -4.8176, -4.8176, -5.7856, -5.9638, -6.1809, -6.1809, -5.1026, -5.503, -4.2333, -4.596, -3.7749, -4.841, -4.3357, -5.5037, -5.5037, -5.7862, -5.7862, -5.7862, -3.7084, -5.0371, -5.1143, -5.0038, -5.1033, -4.083, -5.3063, -5.4224, -5.4224, -5.7049, -5.8832, -4.6826, -5.022, -4.9056, -3.6263, -5.2894, -4.7133, -5.2826, -5.3987, -5.3987, -5.53, -5.53, -4.2271, -4.9234, -5.0516, -5.0795, -5.1786, -5.1344, -4.9809, -5.1608, -5.3809, -5.5122, -4.252, -5.2648, -5.0666, -4.9208, -4.5884, -4.012, -4.2495, -4.3738, -4.5588, -5.3044, -5.4357, -5.5869, -5.587, -5.7652, -4.7514, -5.1883, -5.3043, -4.9223, -4.766, -5.1194, -5.1341, -4.9647, -5.0405, -5.6947, -5.6947, -5.9117, -6.1894, -6.1894, -6.1894, -5.2338, -5.3651, -5.0137, -5.5938, -5.5164, -5.1341, -4.1814, -4.6784, -5.0867, -5.1723], \"loglift\": [6.0, 5.0, 4.0, 3.0, 2.0, 1.0, 1.8694, 1.8433, 1.833, 1.8028, 1.7826, 1.7796, 1.7286, 1.1748, 0.8199, 1.5553, 0.6503, 0.6914, 1.9189, 1.9189, 1.84, 1.8165, 1.7824, 1.7824, 1.7595, 1.7637, 1.6816, 1.608, 0.5346, 0.1082, 1.9452, 1.8769, 1.8769, 1.8461, 1.8461, 1.8461, 0.6011, 1.0688, 1.1325, 0.7705, 0.9775, 2.0422, 1.9821, 1.9714, 1.9714, 1.9401, 1.916, 1.9103, 1.8607, 1.6331, 0.6832, 0.4035, 2.041, 2.0024, 1.9917, 1.9917, 1.9782, 1.9782, 1.1895, 0.7562, 0.7227, 0.0026, 0.5144, -0.8249, 2.0554, 2.0423, 2.0227, 2.009, 1.9531, 1.936, 1.8908, 1.8484, 1.751, 1.5639, 1.5212, 0.5754, 2.1604, 2.1068, 2.093, 2.0749, 2.0749, 2.0504, 2.0182, 2.025, 1.9982, 1.7353, 1.3366, 1.769, 1.7723, -0.6553, 0.3761, 2.1425, 2.1425, 2.1062, 2.0494, 2.0494, 2.0494, 1.9896, 1.952, 1.8984, 1.9479, 1.9076, 1.5258, 0.1281, 0.2708, 0.4893, 0.5908]}, \"token.table\": {\"Topic\": [1, 7, 6, 7, 8, 8, 1, 2, 8, 1, 2, 5, 1, 2, 4, 5, 5, 3, 7, 2, 4, 4, 6, 8, 1, 2, 1, 2, 3, 4, 5, 6, 7, 8, 4, 1, 2, 3, 4, 6, 7, 8, 3, 6, 8, 1, 2, 3, 6, 7, 8, 1, 2, 3, 4, 5, 6, 8, 4, 8, 1, 3, 4, 5, 7, 8, 3, 6, 2, 1, 2, 3, 4, 5, 6, 7, 8, 7, 8, 1, 2, 3, 1, 2, 3, 4, 5, 6, 7, 8, 1, 2, 3, 5, 7, 8, 2, 6, 3, 8, 4, 8, 3, 4, 5, 6, 8, 5, 2, 3, 5, 6, 7, 8, 6, 1, 2, 3, 5, 6, 1, 4, 2, 4, 1, 2, 3, 5, 6, 7, 7, 3, 8, 2, 6, 8, 1, 2, 6, 7, 8, 1, 2, 3, 4, 5, 7, 8, 2, 8, 1, 7, 3, 3, 4, 6, 1, 2, 3, 6, 8, 3, 8, 1, 2, 4, 7, 5, 8, 4, 3, 1, 2, 7, 7, 1, 2, 3, 4, 5, 6, 7, 3, 7, 6, 2, 1, 2, 3, 5, 6, 7, 2, 2, 1, 1, 5, 1, 7, 7, 1, 2, 3, 4, 5, 6, 7, 8, 8, 5, 7, 6, 2, 4, 6, 7, 3, 8], \"Freq\": [0.7322472410886854, 0.274592715408257, 0.09551056068232741, 0.6685739247762919, 0.19102112136465482, 0.7239408031857991, 0.07087230559567036, 0.7441592087545387, 0.1417446111913407, 0.09137463756251252, 0.8223717380626127, 0.09137463756251252, 0.0661259058726492, 0.2645036234905968, 0.661259058726492, 0.8717358747008023, 0.9298077569154188, 0.14194098129716312, 0.8516458877829787, 0.13960766339131456, 0.8376459803478874, 0.16653249351002292, 0.7493962207951032, 0.08326624675501146, 0.13693010807871106, 0.8215806484722663, 0.021347294012709253, 0.2348202341398018, 0.24905176348160796, 0.24905176348160796, 0.05692611736722468, 0.01423152934180617, 0.05692611736722468, 0.11385223473444936, 0.9329318956295192, 0.21312723263342448, 0.12178699007624255, 0.12178699007624255, 0.09134024255718191, 0.18268048511436383, 0.12178699007624255, 0.18268048511436383, 0.12820616547985428, 0.7692369928791257, 0.7239408036433935, 0.9034628086674088, 0.06135063829012184, 0.1840519148703655, 0.5521557446110966, 0.1533765957253046, 0.06135063829012184, 0.32377510402284815, 0.16188755201142407, 0.01349062933428534, 0.08094377600571204, 0.0674531466714267, 0.21585006934856543, 0.1349062933428534, 0.9329318760380122, 0.7267662057485371, 0.04275121589011478, 0.17100486356045913, 0.2137560794505739, 0.04275121589011478, 0.4275121589011478, 0.08550243178022957, 0.789577833494119, 0.9788179257966986, 0.915448216002995, 0.05601135539640124, 0.14002838849100308, 0.16803406618920372, 0.14002838849100308, 0.25205109928380554, 0.05601135539640124, 0.08401703309460186, 0.14002838849100308, 0.7788914280774378, 0.12981523801290631, 0.9666457091405826, 0.7097284568199639, 0.28389138272798553, 0.272858689433767, 0.18190579295584466, 0.09095289647792233, 0.11369112059740291, 0.09095289647792233, 0.09095289647792233, 0.045476448238961166, 0.11369112059740291, 0.12315527521257141, 0.18473291281885712, 0.30788818803142853, 0.24631055042514283, 0.09236645640942856, 0.030788818803142853, 0.2010072564296325, 0.80402902571853, 0.2622585375242223, 0.7867756125726668, 0.32053335822567014, 0.6410667164513403, 0.9207555370258113, 0.9795825584574658, 0.976261220726899, 0.8526060767350868, 0.14210101278918114, 0.9843275522392245, 0.15070395967521355, 0.1076456854822954, 0.4090536048327225, 0.15070395967521355, 0.15070395967521355, 0.04305827419291816, 0.8995797961003135, 0.04182793927483503, 0.37645145347351533, 0.37645145347351533, 0.08365587854967006, 0.1254838178245051, 0.9482644846620965, 0.9329125244802645, 0.7842573016016445, 0.7996464225470924, 0.4622343324387935, 0.15407811081293118, 0.10785467756905183, 0.12326248865034495, 0.061631244325172474, 0.07703905540646559, 0.8132220970091152, 0.18028928693766283, 0.7211571477506513, 0.21669760321453, 0.7042672104472225, 0.0541744008036325, 0.10099156456380755, 0.07574367342285565, 0.5807014962418934, 0.07574367342285565, 0.1514873468457113, 0.19753268039347927, 0.09876634019673963, 0.4444485308853284, 0.09876634019673963, 0.049383170098369816, 0.09876634019673963, 0.049383170098369816, 0.8245124729471573, 0.7239408031857991, 0.8364578071662557, 0.10455722589578197, 0.789577833494119, 0.09327105446022081, 0.8394394901419874, 0.09327105446022081, 0.07464230535362712, 0.2985692214145085, 0.07464230535362712, 0.14928461070725424, 0.4478538321217627, 0.9207555371238794, 0.7267663013914823, 0.1876167162713223, 0.09380835813566114, 0.09380835813566114, 0.656658506949628, 0.28818554607621694, 0.6724329408445062, 0.962063116982788, 0.9708793088882653, 0.8138855679852509, 0.1356475946642085, 0.8132224657933484, 0.9493679603600205, 0.14191356535921687, 0.17029627843106027, 0.05676542614368675, 0.19867899150290363, 0.19867899150290363, 0.028382713071843375, 0.19867899150290363, 0.789577833494119, 0.9483037426773123, 0.9421971705978108, 0.9669937742305357, 0.3002591963001876, 0.1286825127000804, 0.3860475381002412, 0.0857883418000536, 0.0428941709000268, 0.0428941709000268, 0.8245108094803054, 0.9669938098653226, 0.905230934904808, 0.9690795747147604, 0.9298078295534723, 0.16659126245135059, 0.8329563122567529, 0.950434463593799, 0.28430213257186177, 0.07107553314296544, 0.24876436600037904, 0.14215106628593088, 0.07107553314296544, 0.03553776657148272, 0.03553776657148272, 0.10661329971444816, 0.870760151927829, 0.8717358747373073, 0.8897825289672288, 0.8831681696126825, 0.14894057338652308, 0.14894057338652308, 0.14894057338652308, 0.5957622935460923, 0.288040528033965, 0.7201013200849125], \"Term\": [\"10\", \"10\", \"abre\", \"abre\", \"abre\", \"arca\", \"beb\\u00e9\", \"beb\\u00e9\", \"beb\\u00e9\", \"bolsa\", \"bolsa\", \"bolsa\", \"bombilla\", \"bombilla\", \"bombilla\", \"broco\", \"bruce\", \"calvo\", \"calvo\", \"cambiar\", \"cambiar\", \"campo\", \"campo\", \"campo\", \"coca\\u00edna\", \"coca\\u00edna\", \"colmo\", \"colmo\", \"colmo\", \"colmo\", \"colmo\", \"colmo\", \"colmo\", \"colmo\", \"colmos\", \"com\\u00fan\", \"com\\u00fan\", \"com\\u00fan\", \"com\\u00fan\", \"com\\u00fan\", \"com\\u00fan\", \"com\\u00fan\", \"concentraci\\u00f3n\", \"concentraci\\u00f3n\", \"conocimiento\", \"cuerpo\", \"c\\u00e1ncer\", \"c\\u00e1ncer\", \"c\\u00e1ncer\", \"c\\u00e1ncer\", \"c\\u00e1ncer\", \"diferencia\", \"diferencia\", \"diferencia\", \"diferencia\", \"diferencia\", \"diferencia\", \"diferencia\", \"diga\", \"do\", \"doctor\", \"doctor\", \"doctor\", \"doctor\", \"doctor\", \"doctor\", \"dormido\", \"funeral\", \"genio\", \"gimnasio\", \"gimnasio\", \"gimnasio\", \"gimnasio\", \"gimnasio\", \"gimnasio\", \"gimnasio\", \"gimnasio\", \"gitana\", \"gitana\", \"gusano\", \"hija\", \"hija\", \"hijo\", \"hijo\", \"hijo\", \"hijo\", \"hijo\", \"hijo\", \"hijo\", \"hijo\", \"hombre\", \"hombre\", \"hombre\", \"hombre\", \"hombre\", \"hombre\", \"horno\", \"horno\", \"iguana\", \"iguana\", \"impresora\", \"impresora\", \"ja\", \"jaguar\", \"japon\\u00e9s\", \"jud\\u00edo\", \"jud\\u00edo\", \"lee\", \"llama\", \"llama\", \"llama\", \"llama\", \"llama\", \"llama\", \"luna\", \"mam\\u00e1\", \"mam\\u00e1\", \"mam\\u00e1\", \"mam\\u00e1\", \"mam\\u00e1\", \"manzana\", \"mirando\", \"mires\", \"mudo\", \"mujer\", \"mujer\", \"mujer\", \"mujer\", \"mujer\", \"mujer\", \"muri\\u00f3\", \"m\\u00fasico\", \"m\\u00fasico\", \"negro\", \"negro\", \"negro\", \"ni\\u00f1o\", \"ni\\u00f1o\", \"ni\\u00f1o\", \"ni\\u00f1o\", \"ni\\u00f1o\", \"ni\\u00f1os\", \"ni\\u00f1os\", \"ni\\u00f1os\", \"ni\\u00f1os\", \"ni\\u00f1os\", \"ni\\u00f1os\", \"ni\\u00f1os\", \"noel\", \"no\\u00e9\", \"n\\u00famero\", \"n\\u00famero\", \"ovejas\", \"pan\", \"pan\", \"pan\", \"pap\\u00e1\", \"pap\\u00e1\", \"pap\\u00e1\", \"pap\\u00e1\", \"pap\\u00e1\", \"pato\", \"peluquero\", \"pel\\u00edcula\", \"pel\\u00edcula\", \"pel\\u00edcula\", \"pel\\u00edcula\", \"perder\", \"perder\", \"perro\", \"pez\", \"pide\", \"pide\", \"piedra\", \"pija\", \"pregunta\", \"pregunta\", \"pregunta\", \"pregunta\", \"pregunta\", \"pregunta\", \"pregunta\", \"quedarse\", \"regalado\", \"respira\", \"sem\\u00e1foro\", \"sexo\", \"sexo\", \"sexo\", \"sexo\", \"sexo\", \"sexo\", \"sigan\", \"silla\", \"sincero\", \"suicid\\u00f3\", \"super\", \"techo\", \"techo\", \"tel\\u00f3n\", \"tienes\", \"tienes\", \"tienes\", \"tienes\", \"tienes\", \"tienes\", \"tienes\", \"tienes\", \"toro\", \"tumor\", \"t\\u00edtulo\", \"uva\", \"ve\", \"ve\", \"ve\", \"ve\", \"volver\", \"volver\"]}, \"R\": 6, \"lambda.step\": 0.01, \"plot.opts\": {\"xlab\": \"PC1\", \"ylab\": \"PC2\"}, \"topic.order\": [5, 7, 8, 1, 6, 3, 2, 4]};\n",
       "\n",
       "function LDAvis_load_lib(url, callback){\n",
       "  var s = document.createElement('script');\n",
       "  s.src = url;\n",
       "  s.async = true;\n",
       "  s.onreadystatechange = s.onload = callback;\n",
       "  s.onerror = function(){console.warn(\"failed to load library \" + url);};\n",
       "  document.getElementsByTagName(\"head\")[0].appendChild(s);\n",
       "}\n",
       "\n",
       "if(typeof(LDAvis) !== \"undefined\"){\n",
       "   // already loaded: just create the visualization\n",
       "   !function(LDAvis){\n",
       "       new LDAvis(\"#\" + \"ldavis_el17319951270350703760807284211637\", ldavis_el17319951270350703760807284211637_data);\n",
       "   }(LDAvis);\n",
       "}else if(typeof define === \"function\" && define.amd){\n",
       "   // require.js is available: use it to load d3/LDAvis\n",
       "   require.config({paths: {d3: \"https://d3js.org/d3.v5\"}});\n",
       "   require([\"d3\"], function(d3){\n",
       "      window.d3 = d3;\n",
       "      LDAvis_load_lib(\"https://cdn.jsdelivr.net/gh/bmabey/pyLDAvis@3.4.0/pyLDAvis/js/ldavis.v3.0.0.js\", function(){\n",
       "        new LDAvis(\"#\" + \"ldavis_el17319951270350703760807284211637\", ldavis_el17319951270350703760807284211637_data);\n",
       "      });\n",
       "    });\n",
       "}else{\n",
       "    // require.js not available: dynamically load d3 & LDAvis\n",
       "    LDAvis_load_lib(\"https://d3js.org/d3.v5.js\", function(){\n",
       "         LDAvis_load_lib(\"https://cdn.jsdelivr.net/gh/bmabey/pyLDAvis@3.4.0/pyLDAvis/js/ldavis.v3.0.0.js\", function(){\n",
       "                 new LDAvis(\"#\" + \"ldavis_el17319951270350703760807284211637\", ldavis_el17319951270350703760807284211637_data);\n",
       "            })\n",
       "         });\n",
       "}\n",
       "</script>"
      ],
      "text/plain": [
       "<IPython.core.display.HTML object>"
      ]
     },
     "execution_count": 24,
     "metadata": {},
     "output_type": "execute_result"
    }
   ],
   "source": [
    "# Usar CountVectorizer en lugar de TfidfVectorizer\n",
    "count_vectorizer = CountVectorizer(stop_words=spanish_stop_words)\n",
    "\n",
    "# Transformar los datos textuales\n",
    "X_counts = count_vectorizer.fit_transform(df['joke'])\n",
    "\n",
    "# Crear el modelo LDA\n",
    "number_of_topics = 8\n",
    "lda = LatentDirichletAllocation(n_components=number_of_topics, random_state=0)\n",
    "\n",
    "# Ajustar el modelo a los datos\n",
    "lda.fit(X_counts)\n",
    "\n",
    "# Preparar la visualización de los tópicos con pyLDAvis\n",
    "pyLDAvis.enable_notebook()\n",
    "panel = pyLDAvis.lda_model.prepare(\n",
    "    lda, X_counts, count_vectorizer, mds='tsne', R=6)\n",
    "\n",
    "# Mostrar la visualización interactiva\n",
    "pyLDAvis.display(panel)"
   ]
  },
  {
   "cell_type": "code",
   "execution_count": 25,
   "metadata": {},
   "outputs": [
    {
     "data": {
      "text/html": [
       "\n",
       "<link rel=\"stylesheet\" type=\"text/css\" href=\"https://cdn.jsdelivr.net/gh/bmabey/pyLDAvis@3.4.0/pyLDAvis/js/ldavis.v1.0.0.css\">\n",
       "\n",
       "\n",
       "<div id=\"ldavis_el17319951270348934800001954053125\" style=\"background-color:white;\"></div>\n",
       "<script type=\"text/javascript\">\n",
       "\n",
       "var ldavis_el17319951270348934800001954053125_data = {\"mdsDat\": {\"x\": [49.14870834350586, 54.73020935058594, -8.435755729675293, -19.32305908203125, -98.86286926269531, -73.93385314941406, -63.28376388549805, 4.966825485229492], \"y\": [49.92465591430664, -18.84551429748535, 88.01560974121094, 9.217952728271484, 2.32080078125, 66.61270904541016, -56.84656524658203, -66.54405975341797], \"topics\": [1, 2, 3, 4, 5, 6, 7, 8], \"cluster\": [1, 1, 1, 1, 1, 1, 1, 1], \"Freq\": [14.880567595432561, 14.620914619357636, 12.605927205901974, 12.57208360216922, 12.506144115263243, 11.638119133088555, 11.372169959211378, 9.804073769575433]}, \"tinfo\": {\"Term\": [\"colmo\", \"llamar\", \"hijo\", \"mujer\", \"ni\\u00f1o\", \"hombre\", \"colmo\", \"tiempo\", \"malo\", \"ciego\", \"\\u00e1rbol\", \"padre\", \"querer\", \"mago\", \"preguntar\", \"amigo\", \"silla\", \"lugar\", \"responder\", \"sentir\", \"mujer\", \"encontrar\", \"perder\", \"perro\", \"dejar\", \"cambiar\", \"pez\", \"salir\", \"necesitar\", \"beb\\u00e9\", \"diferencia\", \"gimnasio\", \"favorito\", \"quedar\", \"animal\", \"vida\", \"problema\", \"llamar\", \"c\\u00e1ncer\", \"jud\\u00edo\", \"ni\\u00f1o c\\u00e1ncer\", \"hija\", \"techo\", \"ni\\u00f1o\", \"hombre\", \"gustar\", \"parecer\", \"negro\", \"pasar\", \"gallina\", \"jugar\", \"hijo\", \"mam\\u00e1\", \"madre\", \"ojo\", \"campo\", \"coche\", \"sexo\", \"venir\", \"doctor\", \"pap\\u00e1\", \"fitness\", \"tel\\u00f3n\", \"persona\", \"contar\"], \"Freq\": [179.0, 89.0, 65.0, 99.0, 76.0, 59.0, 179.0429201986424, 17.31330517705471, 16.292292026748417, 15.544379241635543, 14.510037319953772, 12.881635322051245, 34.58855303815368, 14.67769017917462, 42.317815159227656, 30.636100857704772, 20.55493240388408, 15.400320611364256, 15.356714058894022, 14.491112817891606, 76.0337061359039, 26.854041310655663, 19.157001155073996, 33.72708502290385, 32.950281308649636, 29.419963028862906, 28.47080972366779, 27.51694618052915, 20.646849440310973, 29.866558966205652, 37.20472732790422, 44.80594662405362, 27.325377368281607, 24.380991852288155, 22.602740775181655, 22.49581198116065, 20.730499591822408, 88.74320714177779, 40.36909110818454, 36.76419811965225, 28.74111880530172, 23.69889071627537, 17.91215418610168, 68.87414333659655, 58.70585897603701, 43.0801877518726, 31.253253204917264, 28.16296525365707, 27.51539133297519, 15.765704978262507, 24.372687740207404, 64.84660102645822, 29.63728143632067, 21.435821031094527, 19.599826086594476, 15.744499015222917, 15.712633227662632, 22.97285282406651, 18.23978639297112, 43.78195983697366, 18.119861095598175, 16.561225699502938, 16.308013219253827, 15.349845001821338, 15.355826820027469], \"Total\": [179.0, 89.0, 65.0, 99.0, 76.0, 59.0, 179.8709998488135, 18.142083102273432, 17.12032513911079, 16.37239365706052, 15.337977721492443, 13.710131215012268, 49.52602415470332, 19.260945238461627, 43.14040612651171, 31.45844876154939, 21.37730630423084, 16.222722774620312, 16.179225964043518, 15.313661370035247, 99.80519346864041, 34.232404719402126, 26.497330362717143, 34.5509326954027, 33.77444043345231, 30.2435992356178, 29.29443092942985, 28.340994400908237, 21.470690116195815, 38.00350422330795, 85.43218107648724, 45.62787748986756, 28.14766960207774, 25.20374494613784, 23.4248577402779, 23.318054566509147, 21.552543620913305, 89.56544434094077, 41.190724383695695, 37.585916860376344, 29.562670865875916, 24.52072051246653, 18.733703555616845, 76.13625588855263, 59.52620653890771, 43.900540739367905, 32.073490416718926, 28.983436936781718, 28.335681638615192, 16.585805175597, 28.089332439587785, 65.66577543786423, 30.456184067776388, 22.254957158939074, 20.418797527549497, 16.563553476533524, 16.531811105250842, 29.22885745532681, 25.554739860044943, 44.5973404307309, 18.935247691237816, 17.376469723311274, 17.123285296228207, 16.165350998254084, 16.17173739871274], \"Category\": [\"Default\", \"Default\", \"Default\", \"Default\", \"Default\", \"Default\", \"Topic1\", \"Topic1\", \"Topic1\", \"Topic1\", \"Topic1\", \"Topic1\", \"Topic1\", \"Topic1\", \"Topic2\", \"Topic2\", \"Topic2\", \"Topic2\", \"Topic2\", \"Topic2\", \"Topic2\", \"Topic2\", \"Topic2\", \"Topic3\", \"Topic3\", \"Topic3\", \"Topic3\", \"Topic3\", \"Topic3\", \"Topic3\", \"Topic3\", \"Topic4\", \"Topic4\", \"Topic4\", \"Topic4\", \"Topic4\", \"Topic4\", \"Topic5\", \"Topic5\", \"Topic5\", \"Topic5\", \"Topic5\", \"Topic5\", \"Topic5\", \"Topic6\", \"Topic6\", \"Topic6\", \"Topic6\", \"Topic6\", \"Topic6\", \"Topic6\", \"Topic7\", \"Topic7\", \"Topic7\", \"Topic7\", \"Topic7\", \"Topic7\", \"Topic7\", \"Topic7\", \"Topic8\", \"Topic8\", \"Topic8\", \"Topic8\", \"Topic8\", \"Topic8\"], \"logprob\": [6.0, 5.0, 4.0, 3.0, 2.0, 1.0, -1.5881, -3.9243, -3.985, -4.032, -4.1009, -4.2199, -3.2322, -4.0894, -3.0129, -3.3359, -3.735, -4.0237, -4.0266, -4.0846, -2.4269, -3.4677, -3.8055, -3.0915, -3.1148, -3.2282, -3.261, -3.295, -3.5823, -3.2131, -2.9934, -2.8048, -3.2993, -3.4133, -3.4891, -3.4938, -3.5755, -2.1161, -2.9038, -2.9974, -3.2436, -3.4365, -3.7164, -2.3696, -2.4574, -2.7669, -3.0878, -3.1919, -3.2152, -3.7721, -3.3365, -2.3348, -3.1178, -3.4418, -3.5313, -3.7503, -3.7524, -3.3725, -3.6032, -2.5792, -3.4615, -3.5514, -3.5668, -3.6274, -3.627], \"loglift\": [6.0, 5.0, 4.0, 3.0, 2.0, 1.0, 1.9005, 1.8584, 1.8555, 1.8532, 1.8496, 1.8428, 1.5461, 1.6334, 1.9035, 1.8962, 1.8835, 1.8707, 1.8705, 1.8675, 1.6507, 1.68, 1.5983, 2.0469, 2.0463, 2.0434, 2.0425, 2.0415, 2.0319, 1.8301, 1.2397, 2.0555, 2.044, 2.0405, 2.038, 2.0378, 2.0348, 2.0697, 2.0588, 2.0568, 2.0508, 2.0449, 2.0341, 1.9787, 2.137, 2.132, 2.125, 2.1222, 2.1215, 2.1002, 2.009, 2.1614, 2.1467, 2.1365, 2.1331, 2.1233, 2.1232, 1.9332, 1.8368, 2.3039, 2.2784, 2.2743, 2.2736, 2.2706, 2.2706]}, \"token.table\": {\"Topic\": [2, 4, 3, 5, 3, 7, 1, 7, 1, 8, 5, 3, 2, 3, 5, 6, 7, 8, 2, 6, 4, 8, 6, 4, 6, 5, 7, 6, 5, 1, 6, 5, 2, 7, 1, 4, 1, 7, 2, 6, 3, 6, 5, 6, 5, 7, 1, 8, 6, 6, 2, 8, 3, 8, 3, 2, 4, 4, 1, 4, 6, 2, 3, 2, 2, 7, 2, 5, 8, 1, 2, 7, 4, 1], \"Freq\": [0.9854268478072657, 0.9818629532358961, 0.7894008885001895, 0.18419354065004423, 0.9588805807824217, 0.9659762938350192, 0.9772547823573783, 0.9678310439270669, 0.9951576415901084, 0.927544124058927, 0.9710924145784867, 0.9770702216376246, 0.1755778655185045, 0.4330920682789777, 0.26921939379504023, 0.09364152827653573, 0.0351155731037009, 0.986605918089248, 0.7887263609236611, 0.20448461209131955, 0.959226834110877, 0.9783345104439584, 0.9646803293904052, 0.9862391694637344, 0.9794867961942815, 0.9787640615127198, 0.9898611501436664, 0.9911600861283884, 0.9844112659921826, 0.10680211095981551, 0.8544168876785241, 0.9936868024816765, 0.9246290039220048, 0.9436099943946645, 0.778777978665706, 0.20767412764418827, 0.9345616902712061, 0.9850216275695862, 0.7614834194362822, 0.2304489295662433, 0.9780775506679795, 0.9660690021364002, 0.9062699392652221, 0.09194042862110949, 0.9809668460461939, 0.9794896086811946, 0.948203908199311, 0.9506081089358764, 0.9665302901938185, 0.9881533946175577, 0.717053368770078, 0.2641775569152919, 0.9840544769005323, 0.927910566347743, 0.9558130713462867, 0.9735652436101923, 0.974362950813047, 0.9522394410548779, 0.706699166698124, 0.12114842857682126, 0.1817226428652319, 0.9271148096537984, 0.9879681567949038, 0.9142163759343842, 0.20527658356712572, 0.7868935703406487, 0.982350147447896, 0.9608351037776051, 0.9344001296015528, 0.9370478519012894, 0.27392178665628136, 0.7043703085447235, 0.9434749342939518, 0.9779646490802467], \"Term\": [\"amigo\", \"animal\", \"beb\\u00e9\", \"beb\\u00e9\", \"cambiar\", \"campo\", \"ciego\", \"coche\", \"colmo\", \"contar\", \"c\\u00e1ncer\", \"dejar\", \"diferencia\", \"diferencia\", \"diferencia\", \"diferencia\", \"diferencia\", \"doctor\", \"encontrar\", \"encontrar\", \"favorito\", \"fitness\", \"gallina\", \"gimnasio\", \"gustar\", \"hija\", \"hijo\", \"hombre\", \"jud\\u00edo\", \"jugar\", \"jugar\", \"llamar\", \"lugar\", \"madre\", \"mago\", \"mago\", \"malo\", \"mam\\u00e1\", \"mujer\", \"mujer\", \"necesitar\", \"negro\", \"ni\\u00f1o\", \"ni\\u00f1o\", \"ni\\u00f1o c\\u00e1ncer\", \"ojo\", \"padre\", \"pap\\u00e1\", \"parecer\", \"pasar\", \"perder\", \"perder\", \"perro\", \"persona\", \"pez\", \"preguntar\", \"problema\", \"quedar\", \"querer\", \"querer\", \"querer\", \"responder\", \"salir\", \"sentir\", \"sexo\", \"sexo\", \"silla\", \"techo\", \"tel\\u00f3n\", \"tiempo\", \"venir\", \"venir\", \"vida\", \"\\u00e1rbol\"]}, \"R\": 6, \"lambda.step\": 0.01, \"plot.opts\": {\"xlab\": \"PC1\", \"ylab\": \"PC2\"}, \"topic.order\": [6, 4, 5, 2, 8, 3, 7, 1]};\n",
       "\n",
       "function LDAvis_load_lib(url, callback){\n",
       "  var s = document.createElement('script');\n",
       "  s.src = url;\n",
       "  s.async = true;\n",
       "  s.onreadystatechange = s.onload = callback;\n",
       "  s.onerror = function(){console.warn(\"failed to load library \" + url);};\n",
       "  document.getElementsByTagName(\"head\")[0].appendChild(s);\n",
       "}\n",
       "\n",
       "if(typeof(LDAvis) !== \"undefined\"){\n",
       "   // already loaded: just create the visualization\n",
       "   !function(LDAvis){\n",
       "       new LDAvis(\"#\" + \"ldavis_el17319951270348934800001954053125\", ldavis_el17319951270348934800001954053125_data);\n",
       "   }(LDAvis);\n",
       "}else if(typeof define === \"function\" && define.amd){\n",
       "   // require.js is available: use it to load d3/LDAvis\n",
       "   require.config({paths: {d3: \"https://d3js.org/d3.v5\"}});\n",
       "   require([\"d3\"], function(d3){\n",
       "      window.d3 = d3;\n",
       "      LDAvis_load_lib(\"https://cdn.jsdelivr.net/gh/bmabey/pyLDAvis@3.4.0/pyLDAvis/js/ldavis.v3.0.0.js\", function(){\n",
       "        new LDAvis(\"#\" + \"ldavis_el17319951270348934800001954053125\", ldavis_el17319951270348934800001954053125_data);\n",
       "      });\n",
       "    });\n",
       "}else{\n",
       "    // require.js not available: dynamically load d3 & LDAvis\n",
       "    LDAvis_load_lib(\"https://d3js.org/d3.v5.js\", function(){\n",
       "         LDAvis_load_lib(\"https://cdn.jsdelivr.net/gh/bmabey/pyLDAvis@3.4.0/pyLDAvis/js/ldavis.v3.0.0.js\", function(){\n",
       "                 new LDAvis(\"#\" + \"ldavis_el17319951270348934800001954053125\", ldavis_el17319951270348934800001954053125_data);\n",
       "            })\n",
       "         });\n",
       "}\n",
       "</script>"
      ],
      "text/plain": [
       "<IPython.core.display.HTML object>"
      ]
     },
     "execution_count": 25,
     "metadata": {},
     "output_type": "execute_result"
    }
   ],
   "source": [
    "# Cargar el modelo de español de spaCy\n",
    "nlp = spacy.load(\"es_core_news_sm\")\n",
    "\n",
    "# Función para preprocesar el texto\n",
    "\n",
    "\n",
    "def preprocess_text(text):\n",
    "    # Procesar el texto con spaCy\n",
    "    doc = nlp(text.lower())  # Convertir a minúsculas\n",
    "    # Lematizar y eliminar puntuaciones\n",
    "    cleaned_text = \" \".join(\n",
    "        [token.lemma_ for token in doc if not token.is_punct and not token.is_space])\n",
    "    return cleaned_text\n",
    "\n",
    "\n",
    "# Aplicar el preprocesamiento a la columna 'joke' de tu DataFrame\n",
    "df['cleaned_text'] = df['joke'].apply(preprocess_text)\n",
    "\n",
    "# Crear la lista de stop words en español\n",
    "spanish_stop_words = list(STOP_WORDS)\n",
    "\n",
    "# Preprocesamiento de los datos\n",
    "count_vectorizer = CountVectorizer(\n",
    "    stop_words=spanish_stop_words,\n",
    "    min_df=5,\n",
    "    max_df=0.8,\n",
    "    ngram_range=(1, 2)  # Captura unigramas y bigramas\n",
    ")\n",
    "\n",
    "# Transformar los datos textuales\n",
    "X_counts = count_vectorizer.fit_transform(df['cleaned_text'])\n",
    "\n",
    "# Crear el modelo LDA\n",
    "number_of_topics = 8\n",
    "lda = LatentDirichletAllocation(\n",
    "    n_components=number_of_topics,\n",
    "    random_state=0,\n",
    "    learning_method='online',\n",
    "    max_iter=400,  # Incrementar iteraciones\n",
    ")\n",
    "\n",
    "# Ajustar el modelo a los datos\n",
    "lda.fit(X_counts)\n",
    "\n",
    "# Preparar la visualización de los tópicos con pyLDAvis\n",
    "pyLDAvis.enable_notebook()\n",
    "panel = pyLDAvis.lda_model.prepare(\n",
    "    lda, X_counts, count_vectorizer, mds='tsne', R=6)\n",
    "\n",
    "# Mostrar la visualización interactiva\n",
    "pyLDAvis.display(panel)"
   ]
  }
 ],
 "metadata": {
  "kernelspec": {
   "display_name": "Python 3",
   "language": "python",
   "name": "python3"
  },
  "language_info": {
   "codemirror_mode": {
    "name": "ipython",
    "version": 3
   },
   "file_extension": ".py",
   "mimetype": "text/x-python",
   "name": "python",
   "nbconvert_exporter": "python",
   "pygments_lexer": "ipython3",
   "version": "3.9.15"
  }
 },
 "nbformat": 4,
 "nbformat_minor": 2
}
